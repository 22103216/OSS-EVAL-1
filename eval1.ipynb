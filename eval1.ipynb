{
 "cells": [
  {
   "cell_type": "markdown",
   "metadata": {},
   "source": [
    "<h1 style=\"font size:10rem;font color:blue;\"> 22103216\n",
    "<h1 style=\"font size:10rem;font color:blue;\"> SAI RAJ SINGH\n",
    "<h1 style=\"font size:10rem;font color:blue;\"> OSS EVALUATION 1\n"
   ]
  },
  {
   "cell_type": "code",
   "execution_count": 27,
   "metadata": {},
   "outputs": [
    {
     "name": "stdout",
     "output_type": "stream",
     "text": [
      "{2210: {'name': 'sai', 'student_class': 'class 12', 'grades': [50, 23, 56, 45]}}\n",
      "{2210: {'name': 'sai', 'student_class': 'class 12', 'grades': [50, 23, 56, 45]}, 2211: {'name': 'mittal', 'student_class': 'class 12', 'grades': [80, 45, 75, 89]}}\n"
     ]
    }
   ],
   "source": [
    "students={}\n",
    "def add_student(name, student_id, student_class,grades):\n",
    "    student={}\n",
    "    if student_id in students:\n",
    "        print(\"student already exists\")\n",
    "        return \n",
    "    students[student_id]={\n",
    "        \"name\":name,\n",
    "        \"student_class\":student_class,\n",
    "        \"grades\":grades\n",
    "    }\n",
    "\n",
    "add_student(\"sai\",2210,\"class 12\",[50,23,56,45])\n",
    "print(students)\n",
    "add_student(\"mittal\",2211,\"class 12\",[80,45,75,89])\n",
    "print(students)"
   ]
  },
  {
   "cell_type": "code",
   "execution_count": 32,
   "metadata": {},
   "outputs": [
    {
     "name": "stdout",
     "output_type": "stream",
     "text": [
      "{2210: {'name': 'sai', 'student_class': 'class 12', 'grades': [85, 78, 69, 90]}, 2211: {'name': 'mittal', 'student_class': 'class 12', 'grades': [85, 78, 69, 90]}}\n",
      "{2210: {'name': 'sai', 'student_class': 'class 12', 'grades': [85, 78, 69, 90]}, 2211: {'name': 'mittal', 'student_class': 'class 12', 'grades': [76, 87.9, 45]}}\n"
     ]
    }
   ],
   "source": [
    "def update_grades(student_id,grades):\n",
    "    if student_id in students:\n",
    "        students[student_id][\"grades\"]=grades\n",
    "        \n",
    "update_grades(2210,[85,78,69,90])\n",
    "print(students)\n",
    "update_grades(2211,[76,87.90,45])\n",
    "print(students)"
   ]
  },
  {
   "cell_type": "code",
   "execution_count": 40,
   "metadata": {},
   "outputs": [
    {
     "name": "stdout",
     "output_type": "stream",
     "text": [
      "80.5\n"
     ]
    }
   ],
   "source": [
    "def calculate_average(student_id):\n",
    "    if student_id in students:\n",
    "        return sum(students[student_id][\"grades\"])/len(students[student_id][\"grades\"])\n",
    "\n",
    "print(calculate_average(2210))\n"
   ]
  },
  {
   "cell_type": "code",
   "execution_count": null,
   "metadata": {},
   "outputs": [],
   "source": []
  }
 ],
 "metadata": {
  "kernelspec": {
   "display_name": "Python 3",
   "language": "python",
   "name": "python3"
  },
  "language_info": {
   "codemirror_mode": {
    "name": "ipython",
    "version": 3
   },
   "file_extension": ".py",
   "mimetype": "text/x-python",
   "name": "python",
   "nbconvert_exporter": "python",
   "pygments_lexer": "ipython3",
   "version": "3.7.3"
  }
 },
 "nbformat": 4,
 "nbformat_minor": 2
}
